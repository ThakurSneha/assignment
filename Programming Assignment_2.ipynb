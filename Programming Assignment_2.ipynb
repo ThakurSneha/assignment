{
 "cells": [
  {
   "cell_type": "markdown",
   "metadata": {},
   "source": [
    "# Programming Assigment_2"
   ]
  },
  {
   "cell_type": "markdown",
   "metadata": {},
   "source": [
    "### Q1. Write a Python program to convert kilometers to miles?"
   ]
  },
  {
   "cell_type": "code",
   "execution_count": 18,
   "metadata": {},
   "outputs": [
    {
     "name": "stdout",
     "output_type": "stream",
     "text": [
      "Enter the value in kilometer:10\n",
      "The entered value converted kilometers to miles is 6.21371 \n"
     ]
    }
   ],
   "source": [
    "kilometer=int(input(\"Enter the value in kilometer:\"))\n",
    "mile=kilometer*0.621371\n",
    "print(\"The entered value converted kilometers to miles is {} \".format(mile))"
   ]
  },
  {
   "cell_type": "markdown",
   "metadata": {},
   "source": [
    "### Q2.\tWrite a Python program to convert Celsius to Fahrenheit?"
   ]
  },
  {
   "cell_type": "code",
   "execution_count": 3,
   "metadata": {},
   "outputs": [
    {
     "name": "stdout",
     "output_type": "stream",
     "text": [
      "Enter the temperature in celsius:37\n",
      "Converting Celsius to Fahrenheit.......\n",
      "The temperature is 37.0 in celsius is equal to 98.60000000000001 fahrenheit.\n"
     ]
    }
   ],
   "source": [
    "celsius=float(input(\"Enter the temperature in celsius:\"))\n",
    "fahrenheit=(celsius*1.8)+32\n",
    "print(\"Converting Celsius to Fahrenheit.......\")\n",
    "print(\"The temperature is {} in celsius is equal to {} fahrenheit.\".format(celsius,fahrenheit))"
   ]
  },
  {
   "cell_type": "markdown",
   "metadata": {},
   "source": [
    "### Q3. Write a Python program to display calendar?"
   ]
  },
  {
   "cell_type": "code",
   "execution_count": 9,
   "metadata": {},
   "outputs": [
    {
     "name": "stdout",
     "output_type": "stream",
     "text": [
      "Enter the year:2020\n",
      "Enter the month:02\n",
      "A Calender of :\n",
      "   February 2020\n",
      "Mo Tu We Th Fr Sa Su\n",
      "                1  2\n",
      " 3  4  5  6  7  8  9\n",
      "10 11 12 13 14 15 16\n",
      "17 18 19 20 21 22 23\n",
      "24 25 26 27 28 29\n",
      "\n"
     ]
    }
   ],
   "source": [
    "import calendar\n",
    "year=int(input(\"Enter the year:\"))\n",
    "month=int(input(\"Enter the month:\"))\n",
    "print(\"A Calender of :\")\n",
    "print(calendar.month(year,month))"
   ]
  },
  {
   "cell_type": "markdown",
   "metadata": {},
   "source": [
    "### Q4. Write a Python program to solve quadratic equation?"
   ]
  },
  {
   "cell_type": "code",
   "execution_count": 1,
   "metadata": {},
   "outputs": [
    {
     "name": "stdout",
     "output_type": "stream",
     "text": [
      "Enter The value of a:12\n",
      "Enter The value of b:9\n",
      "Enter The value of c:15\n",
      "The value of a = 12.0 ,b = 9.0 and c = 15.0\n",
      "The value of discriminant is -639.0\n",
      "The First solution is(-0.375-1.0532687216470449j)\n",
      "The second solution is(-0.375+1.0532687216470449j)\n"
     ]
    }
   ],
   "source": [
    "import cmath\n",
    "a=float(input(\"Enter The value of a:\"))\n",
    "b=float(input(\"Enter The value of b:\"))\n",
    "c=float(input(\"Enter The value of c:\"))\n",
    "print(\"The value of a = {} ,b = {} and c = {}\".format(a,b,c))\n",
    "d=(b**2)-(4*a*c)\n",
    "print(\"The value of discriminant is {}\".format(d))\n",
    "result1=(-b-cmath.sqrt(d))/(2*a)\n",
    "result2=(-b+cmath.sqrt(d))/(2*a)\n",
    "\n",
    "print(\"The First solution is{}\".format(result1))\n",
    "print(\"The second solution is{}\".format(result2))"
   ]
  },
  {
   "cell_type": "markdown",
   "metadata": {},
   "source": [
    "### Q5. Write a Python program to swap two variables without temp variable?"
   ]
  },
  {
   "cell_type": "code",
   "execution_count": 17,
   "metadata": {},
   "outputs": [
    {
     "name": "stdout",
     "output_type": "stream",
     "text": [
      "Enter the first number:25\n",
      "Enter the second number:15\n",
      "Before Swapping........\n",
      "The Value of first number is a = 25 and second number is b = 15\n",
      "After Swapping........\n",
      "The Value of first number is a = 15 and second number is b = 25\n"
     ]
    }
   ],
   "source": [
    "a=int(input(\"Enter the first number:\"))\n",
    "b=int(input(\"Enter the second number:\"))\n",
    "print(\"Before Swapping........\")\n",
    "print(\"The Value of first number is a = {} and second number is b = {}\".format(a,b))\n",
    "a,b=b,a\n",
    "print(\"After Swapping........\")\n",
    "print(\"The Value of first number is a = {} and second number is b = {}\".format(a,b))"
   ]
  },
  {
   "cell_type": "code",
   "execution_count": null,
   "metadata": {},
   "outputs": [],
   "source": []
  }
 ],
 "metadata": {
  "kernelspec": {
   "display_name": "Python 3",
   "language": "python",
   "name": "python3"
  },
  "language_info": {
   "codemirror_mode": {
    "name": "ipython",
    "version": 3
   },
   "file_extension": ".py",
   "mimetype": "text/x-python",
   "name": "python",
   "nbconvert_exporter": "python",
   "pygments_lexer": "ipython3",
   "version": "3.7.6"
  }
 },
 "nbformat": 4,
 "nbformat_minor": 4
}
