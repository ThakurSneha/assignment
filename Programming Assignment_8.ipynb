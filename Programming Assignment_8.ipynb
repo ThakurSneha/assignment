{
 "cells": [
  {
   "cell_type": "markdown",
   "metadata": {},
   "source": [
    "# Programming Assignment_8"
   ]
  },
  {
   "cell_type": "markdown",
   "metadata": {},
   "source": [
    "### Q1.\tWrite a Python Program to Add Two Matrices?"
   ]
  },
  {
   "cell_type": "code",
   "execution_count": 6,
   "metadata": {},
   "outputs": [
    {
     "name": "stdout",
     "output_type": "stream",
     "text": [
      "[2, 5, 5]\n",
      "[10, 10, 10]\n",
      "[15, 15, 18]\n"
     ]
    }
   ],
   "source": [
    "A = [[1,2,3],\n",
    "    [4 ,5,6],\n",
    "    [7 ,8,9]]\n",
    "\n",
    "B = [[1,3,2],\n",
    "    [6,5,4],\n",
    "    [8,7,9]]\n",
    "\n",
    "ANS = [[0,0,0],\n",
    "        [0,0,0],\n",
    "        [0,0,0]]\n",
    "\n",
    "for i in range(len(A)):\n",
    "    for j in range(len(A[0])):\n",
    "        ANS[i][j] = A[i][j] + B[i][j]\n",
    "        \n",
    "for k in ANS:\n",
    "    print(k)"
   ]
  },
  {
   "cell_type": "markdown",
   "metadata": {},
   "source": [
    "### Q2.\tWrite a Python Program to Multiply Two Matrices?"
   ]
  },
  {
   "cell_type": "code",
   "execution_count": 7,
   "metadata": {},
   "outputs": [
    {
     "name": "stdout",
     "output_type": "stream",
     "text": [
      "[114, 160, 60]\n",
      "[74, 97, 73]\n",
      "[119, 157, 112]\n"
     ]
    }
   ],
   "source": [
    "A = [[12, 7, 3],\n",
    "    [4, 5, 6],\n",
    "    [7, 8, 9]]\n",
    "\n",
    "B = [[5, 8, 1],\n",
    "    [6, 7, 3],\n",
    "    [4, 5, 9]]\n",
    "\n",
    "ANS = [[0,0,0],\n",
    "        [0,0,0],\n",
    "        [0,0,0]]\n",
    "\n",
    "for i in range(len(A)):\n",
    "        for j in range(len(B[0])):\n",
    "            for k in range(len(B)):\n",
    "                ANS[i][j] += A[i][k] * B[k][j]\n",
    "            \n",
    "for l in ANS:\n",
    "    print(l)"
   ]
  },
  {
   "cell_type": "markdown",
   "metadata": {},
   "source": [
    "### Q3.\tWrite a Python Program to Transpose a Matrix?"
   ]
  },
  {
   "cell_type": "code",
   "execution_count": 1,
   "metadata": {},
   "outputs": [
    {
     "name": "stdout",
     "output_type": "stream",
     "text": [
      "[5, 6, 4]\n",
      "[8, 3, 9]\n"
     ]
    }
   ],
   "source": [
    "A = [[5, 8],\n",
    "    [6, 3],\n",
    "    [4, 9]]\n",
    "\n",
    "T = [[0,0,0],\n",
    "     [0,0,0]]\n",
    "\n",
    "for i in range(len(A)):\n",
    "    for j in range(len(A[0])):\n",
    "        T[j][i] = A[i][j]\n",
    "        \n",
    "for k in T:\n",
    "    print(k)"
   ]
  },
  {
   "cell_type": "markdown",
   "metadata": {},
   "source": [
    "### Q4.\tWrite a Python Program to Sort Words in Alphabetic Order?"
   ]
  },
  {
   "cell_type": "code",
   "execution_count": 15,
   "metadata": {},
   "outputs": [
    {
     "name": "stdout",
     "output_type": "stream",
     "text": [
      "Enter The Sentence : What is your name, Tell me\n",
      "The Alphabetic Order is\n",
      "Tell\n",
      "What\n",
      "is\n",
      "me\n",
      "name,\n",
      "your\n"
     ]
    }
   ],
   "source": [
    "s = input(\"Enter The Sentence : \")\n",
    "l = list(s.split())\n",
    "l.sort()\n",
    "print(\"The Alphabetic Order is\")\n",
    "for i in l:\n",
    "    print(i)"
   ]
  },
  {
   "cell_type": "markdown",
   "metadata": {},
   "source": [
    "### Q5.\tWrite a Python Program to Remove Punctuation From a String?"
   ]
  },
  {
   "cell_type": "code",
   "execution_count": 17,
   "metadata": {},
   "outputs": [
    {
     "name": "stdout",
     "output_type": "stream",
     "text": [
      "Enter a String : Hello!!!! How are you , dear? I'm fine.\n",
      "Hello How are you  dear Im fine\n"
     ]
    }
   ],
   "source": [
    "punctuation = '''''!()-[]{};:'\"\\,<>./?@#$%^&*_~''' \n",
    "string = input(\"Enter a String : \")  \n",
    "final = \"\"  \n",
    "for i in string: \n",
    "    if i not in punctuation:\n",
    "        final = final + i\n",
    "print(final)"
   ]
  },
  {
   "cell_type": "code",
   "execution_count": null,
   "metadata": {},
   "outputs": [],
   "source": []
  }
 ],
 "metadata": {
  "kernelspec": {
   "display_name": "Python 3",
   "language": "python",
   "name": "python3"
  },
  "language_info": {
   "codemirror_mode": {
    "name": "ipython",
    "version": 3
   },
   "file_extension": ".py",
   "mimetype": "text/x-python",
   "name": "python",
   "nbconvert_exporter": "python",
   "pygments_lexer": "ipython3",
   "version": "3.7.6"
  }
 },
 "nbformat": 4,
 "nbformat_minor": 4
}
