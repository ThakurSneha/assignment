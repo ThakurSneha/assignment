{
 "cells": [
  {
   "cell_type": "markdown",
   "metadata": {},
   "source": [
    "# Programming Assignment_10"
   ]
  },
  {
   "cell_type": "markdown",
   "metadata": {},
   "source": [
    "### Q1.\tWrite a Python program to find sum of elements in list?"
   ]
  },
  {
   "cell_type": "code",
   "execution_count": 1,
   "metadata": {},
   "outputs": [
    {
     "name": "stdout",
     "output_type": "stream",
     "text": [
      "How Many Elements You want to Enter ? 5\n",
      "Enter a Number : 2\n",
      "Enter a Number : 8\n",
      "Enter a Number : 15\n",
      "Enter a Number : 10\n",
      "Enter a Number : 22\n",
      "The list is [2, 8, 15, 10, 22] \n",
      "Sum of all Elements in list is 57\n"
     ]
    }
   ],
   "source": [
    "l = []\n",
    "size = int(input(\"How Many Elements You want to Enter ? \"))\n",
    "for i in range(size):\n",
    "    n = int(input(\"Enter a Number : \"))\n",
    "    l.append(n)\n",
    "print(\"The list is {} \".format(l))\n",
    "sum = 0\n",
    "for i in range(size):\n",
    "    sum = sum + l[i]\n",
    "print(\"Sum of all Elements in list is {}\".format(sum))"
   ]
  },
  {
   "cell_type": "markdown",
   "metadata": {},
   "source": [
    "### Q2.\tWrite a Python program to  Multiply all numbers in the list?"
   ]
  },
  {
   "cell_type": "code",
   "execution_count": 2,
   "metadata": {},
   "outputs": [
    {
     "name": "stdout",
     "output_type": "stream",
     "text": [
      "How Many Elements You want to Enter ? 5\n",
      "Enter a Number : 2\n",
      "Enter a Number : 4\n",
      "Enter a Number : 10\n",
      "Enter a Number : 5\n",
      "Enter a Number : 6\n",
      "The list is [2, 4, 10, 5, 6] \n",
      "Multiply of all Elements in List is 2400\n"
     ]
    }
   ],
   "source": [
    "l = []\n",
    "size = int(input(\"How Many Elements You want to Enter ? \"))\n",
    "for i in range(size):\n",
    "    n = int(input(\"Enter a Number : \"))\n",
    "    l.append(n)\n",
    "print(\"The list is {} \".format(l))\n",
    "mul = 1\n",
    "for i in range(size):\n",
    "    mul = mul * l[i]\n",
    "print(\"Multiply of all Elements in List is {}\".format(mul))"
   ]
  },
  {
   "cell_type": "markdown",
   "metadata": {},
   "source": [
    "### Q3.\tWrite a Python program to find smallest number in a list?"
   ]
  },
  {
   "cell_type": "code",
   "execution_count": 4,
   "metadata": {},
   "outputs": [
    {
     "name": "stdout",
     "output_type": "stream",
     "text": [
      "How Many Elements You want to Enter ? 5\n",
      "Enter a Number : 5\n",
      "Enter a Number : 10\n",
      "Enter a Number : 2\n",
      "Enter a Number : 19\n",
      "Enter a Number : 15\n",
      "The list is [5, 10, 2, 19, 15] \n",
      "The Smallest number in a list is 2 \n"
     ]
    }
   ],
   "source": [
    "l = []\n",
    "size = int(input(\"How Many Elements You want to Enter ? \"))\n",
    "for i in range(size):\n",
    "    n = int(input(\"Enter a Number : \"))\n",
    "    l.append(n)\n",
    "print(\"The list is {} \".format(l))\n",
    "small = min(l)\n",
    "print(\"The Smallest number in a list is {} \".format(small))"
   ]
  },
  {
   "cell_type": "markdown",
   "metadata": {},
   "source": [
    "### Q4.\tWrite a Python program to find largest number in a list?"
   ]
  },
  {
   "cell_type": "code",
   "execution_count": 5,
   "metadata": {},
   "outputs": [
    {
     "name": "stdout",
     "output_type": "stream",
     "text": [
      "How Many Elements You want to Enter ? 5\n",
      "Enter a Number : 5\n",
      "Enter a Number : 10\n",
      "Enter a Number : 2\n",
      "Enter a Number : 19\n",
      "Enter a Number : 15\n",
      "The list is [5, 10, 2, 19, 15] \n",
      "The Largest number in a list is 19 \n"
     ]
    }
   ],
   "source": [
    "l = []\n",
    "size = int(input(\"How Many Elements You want to Enter ? \"))\n",
    "for i in range(size):\n",
    "    n = int(input(\"Enter a Number : \"))\n",
    "    l.append(n)\n",
    "print(\"The list is {} \".format(l))\n",
    "large = max(l)\n",
    "print(\"The Largest number in a list is {} \".format(large))"
   ]
  },
  {
   "cell_type": "markdown",
   "metadata": {},
   "source": [
    "### Q5.\tWrite a Python program to find second largest number in a list?"
   ]
  },
  {
   "cell_type": "code",
   "execution_count": 6,
   "metadata": {},
   "outputs": [
    {
     "name": "stdout",
     "output_type": "stream",
     "text": [
      "How Many Elements You want to Enter ? 5\n",
      "Enter a Number : 2\n",
      "Enter a Number : 19\n",
      "Enter a Number : 5\n",
      "Enter a Number : 4\n",
      "Enter a Number : 10\n",
      "The list is [2, 19, 5, 4, 10] \n",
      "My sorted list is [2, 4, 5, 10, 19]\n",
      "The second Largest number in a list is 10\n"
     ]
    }
   ],
   "source": [
    "l = []\n",
    "size = int(input(\"How Many Elements You want to Enter ? \"))\n",
    "for i in range(size):\n",
    "    n = int(input(\"Enter a Number : \"))\n",
    "    l.append(n)\n",
    "print(\"The list is {} \".format(l))\n",
    "l.sort()\n",
    "print(\"My sorted list is {}\".format(l))\n",
    "print(\"The second Largest number in a list is {}\".format(l[-2]))"
   ]
  },
  {
   "cell_type": "markdown",
   "metadata": {},
   "source": [
    "### Q6.\tWrite a Python program to find N largest elements from a list?"
   ]
  },
  {
   "cell_type": "code",
   "execution_count": 7,
   "metadata": {},
   "outputs": [
    {
     "name": "stdout",
     "output_type": "stream",
     "text": [
      "[22, 19, 12, 10]\n"
     ]
    }
   ],
   "source": [
    "def elements(L , N):\n",
    "    my_list = []\n",
    "    \n",
    "    for i in range(0,N):\n",
    "        m = 0\n",
    "        \n",
    "        for j in range(len(L)):\n",
    "            if L[j] > m:\n",
    "                m = L[j]\n",
    "                \n",
    "        L.remove(m)\n",
    "        my_list.append(m)\n",
    "        \n",
    "    print(my_list)\n",
    "\n",
    "L = [2,10,12,19,22,0,6,3,7,8]\n",
    "N = 4\n",
    "\n",
    "elements(L , N)"
   ]
  },
  {
   "cell_type": "markdown",
   "metadata": {},
   "source": [
    "### Q7.\tWrite a Python program to print even numbers in a list?"
   ]
  },
  {
   "cell_type": "code",
   "execution_count": 8,
   "metadata": {},
   "outputs": [
    {
     "name": "stdout",
     "output_type": "stream",
     "text": [
      "How Many Elements You want to Enter ? 10\n",
      "Enter a Number : 1\n",
      "Enter a Number : 2\n",
      "Enter a Number : 3\n",
      "Enter a Number : 4\n",
      "Enter a Number : 5\n",
      "Enter a Number : 6\n",
      "Enter a Number : 7\n",
      "Enter a Number : 8\n",
      "Enter a Number : 9\n",
      "Enter a Number : 10\n",
      "The List is [1, 2, 3, 4, 5, 6, 7, 8, 9, 10]\n",
      "Only Even number in List is [2, 4, 6, 8, 10]\n"
     ]
    }
   ],
   "source": [
    "l = []\n",
    "size = int(input(\"How Many Elements You want to Enter ? \"))\n",
    "for i in range(size):\n",
    "    n = int(input(\"Enter a Number : \"))\n",
    "    l.append(n)\n",
    "print(\"The List is {}\".format(l))\n",
    "\n",
    "new = []\n",
    "for num in l:\n",
    "    if num % 2 == 0:\n",
    "        new.append(num)\n",
    "print(\"Only Even number in List is\",new)"
   ]
  },
  {
   "cell_type": "markdown",
   "metadata": {},
   "source": [
    "### Q8.\tWrite a Python program to print odd numbers in a List?"
   ]
  },
  {
   "cell_type": "code",
   "execution_count": 9,
   "metadata": {},
   "outputs": [
    {
     "name": "stdout",
     "output_type": "stream",
     "text": [
      "How Many Elements You want to Enter ? 10\n",
      "Enter a Number : 1\n",
      "Enter a Number : 2\n",
      "Enter a Number : 3\n",
      "Enter a Number : 4\n",
      "Enter a Number : 5\n",
      "Enter a Number : 6\n",
      "Enter a Number : 7\n",
      "Enter a Number : 8\n",
      "Enter a Number : 9\n",
      "Enter a Number : 10\n",
      "The List is [1, 2, 3, 4, 5, 6, 7, 8, 9, 10]\n",
      "Only Odd Number in List is [1, 3, 5, 7, 9]\n"
     ]
    }
   ],
   "source": [
    "l = []\n",
    "size = int(input(\"How Many Elements You want to Enter ? \"))\n",
    "for i in range(size):\n",
    "    n = int(input(\"Enter a Number : \"))\n",
    "    l.append(n)\n",
    "print(\"The List is {}\".format(l))\n",
    "\n",
    "new = []\n",
    "for num in l:\n",
    "    if num % 2 != 0:\n",
    "        new.append(num)\n",
    "print(\"Only Odd Number in List is\",new)"
   ]
  },
  {
   "cell_type": "markdown",
   "metadata": {},
   "source": [
    "### Q9.\tWrite a Python program to Remove empty List from List?"
   ]
  },
  {
   "cell_type": "code",
   "execution_count": 10,
   "metadata": {},
   "outputs": [
    {
     "name": "stdout",
     "output_type": "stream",
     "text": [
      "The original list is : [2, 4, [], 3, [], [], 7, 9]\n",
      "List after empty list removal : [2, 4, 3, 7, 9]\n"
     ]
    }
   ],
   "source": [
    "my_list = [2, 4, [], 3, [], [], 7, 9]\n",
    "print(\"The original list is : \" + str(my_list))\n",
    "final = list(filter(None, my_list))\n",
    "print (\"List after empty list removal : \" + str(final))"
   ]
  },
  {
   "cell_type": "markdown",
   "metadata": {},
   "source": [
    "### Q10.\tWrite a Python program to Cloning or Copying a list?"
   ]
  },
  {
   "cell_type": "code",
   "execution_count": 11,
   "metadata": {},
   "outputs": [
    {
     "name": "stdout",
     "output_type": "stream",
     "text": [
      "The Original List is : [8, 2, 4, 5, 1, 7, 3, 9, 10]\n",
      "After Cloning List is : [8, 2, 4, 5, 1, 7, 3, 9, 10]\n"
     ]
    }
   ],
   "source": [
    "def Cloning(L):\n",
    "    List_copy = []\n",
    "    List_copy.extend(List1)\n",
    "    return List_copy\n",
    "\n",
    "List1 = [8,2,4,5,1,7,3,9,10]\n",
    "List2 = Cloning(List1)\n",
    "print(\"The Original List is :\", List1)\n",
    "print(\"After Cloning List is :\", List2)"
   ]
  },
  {
   "cell_type": "markdown",
   "metadata": {},
   "source": [
    "### Q11. Write a Python program to Count occurrences of an element in a list?"
   ]
  },
  {
   "cell_type": "code",
   "execution_count": 13,
   "metadata": {},
   "outputs": [
    {
     "name": "stdout",
     "output_type": "stream",
     "text": [
      "How Many Elements You want to Enter ? 10\n",
      "Enter a Number : 2\n",
      "Enter a Number : 9\n",
      "Enter a Number : 4\n",
      "Enter a Number : 2\n",
      "Enter a Number : 12\n",
      "Enter a Number : 3\n",
      "Enter a Number : 6\n",
      "Enter a Number : 2\n",
      "Enter a Number : 5\n",
      "Enter a Number : 2\n",
      "The List is [2, 9, 4, 2, 12, 3, 6, 2, 5, 2]\n",
      "Enter the element for counting the occurrences : 2\n",
      "2 has occured 4 times\n"
     ]
    }
   ],
   "source": [
    "def count_element(mylist , number):\n",
    "    count = 0\n",
    "    for i in mylist:\n",
    "        if(i == number):\n",
    "            count = count + 1\n",
    "    return count\n",
    "\n",
    "mylist = []\n",
    "size = int(input(\"How Many Elements You want to Enter ? \"))\n",
    "for i in range(size):\n",
    "    n = int(input(\"Enter a Number : \"))\n",
    "    mylist.append(n)\n",
    "print(\"The List is {}\".format(mylist))\n",
    "\n",
    "number = int(input(\"Enter the element for counting the occurrences : \"))\n",
    "print(\"{} has occured {} times\".format(number,count_element(mylist , number)))"
   ]
  },
  {
   "cell_type": "code",
   "execution_count": null,
   "metadata": {},
   "outputs": [],
   "source": []
  }
 ],
 "metadata": {
  "kernelspec": {
   "display_name": "Python 3",
   "language": "python",
   "name": "python3"
  },
  "language_info": {
   "codemirror_mode": {
    "name": "ipython",
    "version": 3
   },
   "file_extension": ".py",
   "mimetype": "text/x-python",
   "name": "python",
   "nbconvert_exporter": "python",
   "pygments_lexer": "ipython3",
   "version": "3.7.6"
  }
 },
 "nbformat": 4,
 "nbformat_minor": 4
}
