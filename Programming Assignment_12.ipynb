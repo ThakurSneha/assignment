{
 "cells": [
  {
   "cell_type": "markdown",
   "metadata": {},
   "source": [
    "# Programming Assignment_12"
   ]
  },
  {
   "cell_type": "markdown",
   "metadata": {},
   "source": [
    "### Q1.\tWrite a Python program to Extract Unique values dictionary values?"
   ]
  },
  {
   "cell_type": "code",
   "execution_count": 1,
   "metadata": {},
   "outputs": [
    {
     "name": "stdout",
     "output_type": "stream",
     "text": [
      "The Original dictionary is  {'first': 'lion', 'second': 'tiger', 'third': 'elefante', 'fourth': 'horse', 'fifth': 'cow'}\n",
      "The Unique value list is  ['a', 'c', 'e', 'f', 'g', 'h', 'i', 'l', 'n', 'o', 'r', 's', 't', 'w']\n"
     ]
    }
   ],
   "source": [
    "my_dict = {'first' : 'lion' , 'second' : 'tiger' , 'third' : 'elefante' , 'fourth' : 'horse' , 'fifth' : 'cow'}\n",
    "print(\"The Original dictionary is  \" + str(my_dict))\n",
    "\n",
    "unique = list(sorted({ele for val in my_dict.values() for ele in val}))\n",
    "print(\"The Unique value list is  \" + str(unique))"
   ]
  },
  {
   "cell_type": "markdown",
   "metadata": {},
   "source": [
    "### Q2.\tWrite a Python program to find the sum of all items in a dictionary?"
   ]
  },
  {
   "cell_type": "code",
   "execution_count": 2,
   "metadata": {},
   "outputs": [
    {
     "name": "stdout",
     "output_type": "stream",
     "text": [
      "Sum of all items in a dictionary is 114\n"
     ]
    }
   ],
   "source": [
    "def sum_dict(my_dict):\n",
    "    sum = 0\n",
    "    for i in my_dict:\n",
    "        sum = sum + my_dict[i]\n",
    "    return sum\n",
    "\n",
    "my_dict = {'first' : 22 , 'second' : 41 , 'third' : 15 , 'forth' : 5 , 'fifth' : 31}\n",
    "print(\"Sum of all items in a dictionary is\",sum_dict(my_dict))"
   ]
  },
  {
   "cell_type": "markdown",
   "metadata": {},
   "source": [
    "### Q3.\tWrite a Python program to Merging two Dictionaries?"
   ]
  },
  {
   "cell_type": "code",
   "execution_count": 5,
   "metadata": {},
   "outputs": [
    {
     "name": "stdout",
     "output_type": "stream",
     "text": [
      "Merging two Dictionaries is   {'first': 62, 'second': 41, 'third': 25, 'forth': 57}\n"
     ]
    }
   ],
   "source": [
    "def merge_dict(dict1 , dict2):\n",
    "    out = {**dict1 , **dict2}\n",
    "    return out\n",
    "    \n",
    "dict1 = {'first' : 62 , 'second' : 41 }\n",
    "dict2 = {'third' : 25 , 'forth' : 57}\n",
    "dict3 = merge_dict(dict1 , dict2)\n",
    "\n",
    "print(\"Merging two Dictionaries is  \",dict3)"
   ]
  },
  {
   "cell_type": "markdown",
   "metadata": {},
   "source": [
    "### Q4.\tWrite a Python program to convert key-values list to flat dictionary?"
   ]
  },
  {
   "cell_type": "code",
   "execution_count": 6,
   "metadata": {},
   "outputs": [
    {
     "name": "stdout",
     "output_type": "stream",
     "text": [
      "The original dictionary is  {'RollNo': [1, 2, 3, 4], 'Students_name': ['sam', 'swap', 'rishy', 'ruchi']}\n",
      "Flattened dictionary is  {1: 'sam', 2: 'swap', 3: 'rishy', 4: 'ruchi'}\n"
     ]
    }
   ],
   "source": [
    "from itertools import product\n",
    "\n",
    "my_dict = {'RollNo' : [1, 2, 3, 4],\n",
    "             'Students_name' : ['sam', 'swap', 'rishy', 'ruchi']}\n",
    "\n",
    "print(\"The original dictionary is  \" + str(my_dict))\n",
    "res = dict(zip(my_dict['RollNo'], my_dict['Students_name']))\n",
    "print(\"Flattened dictionary is  \" + str(res)) "
   ]
  },
  {
   "cell_type": "markdown",
   "metadata": {},
   "source": [
    "### Q5.\tWrite a Python program to insertion at the beginning in OrderedDict?"
   ]
  },
  {
   "cell_type": "code",
   "execution_count": 7,
   "metadata": {},
   "outputs": [
    {
     "name": "stdout",
     "output_type": "stream",
     "text": [
      "Resultant Dictionary is OrderedDict([('Bhoomika', '3'), ('Riya', '1'), ('Satyam', '2')])\n"
     ]
    }
   ],
   "source": [
    "from collections import OrderedDict\n",
    "\n",
    "my_dict = OrderedDict([('Riya', '1'), ('Satyam', '2')])\n",
    "my_dict.update({'Bhoomika':'3'})\n",
    "my_dict.move_to_end('Bhoomika', last = False)\n",
    "\n",
    "print(\"Resultant Dictionary is \" + str(my_dict))"
   ]
  },
  {
   "cell_type": "markdown",
   "metadata": {},
   "source": [
    "### Q6.\tWrite a Python program to check order of character in string using OrderedDict()?"
   ]
  },
  {
   "cell_type": "code",
   "execution_count": 9,
   "metadata": {},
   "outputs": [
    {
     "name": "stdout",
     "output_type": "stream",
     "text": [
      "true\n"
     ]
    }
   ],
   "source": [
    "from collections import OrderedDict \n",
    "\n",
    "def checkOrder(input, pattern):\n",
    "    dict = OrderedDict.fromkeys(input) \n",
    "    ptrlen = 0\n",
    "    for key,value in dict.items(): \n",
    "        if (key == pattern[ptrlen]): \n",
    "            ptrlen = ptrlen + 1\n",
    "            if (ptrlen == (len(pattern))): \n",
    "                return 'true'\n",
    "    return 'false'\n",
    "\n",
    "if __name__ == \"__main__\": \n",
    "    input = 'Programming Assignment '\n",
    "    pattern = 'mi'\n",
    "    print (checkOrder(input,pattern)) "
   ]
  },
  {
   "cell_type": "markdown",
   "metadata": {},
   "source": [
    "### Q7.\tWrite a Python program to sort Python Dictionaries by Key or Value?"
   ]
  },
  {
   "cell_type": "code",
   "execution_count": 10,
   "metadata": {},
   "outputs": [
    {
     "name": "stdout",
     "output_type": "stream",
     "text": [
      "Task 1:-\n",
      "\n",
      "Keys are\n",
      "1 2 3 4 5 6 "
     ]
    }
   ],
   "source": [
    "def dictionairy():\n",
    "    key_value = {}\n",
    "    \n",
    "    key_value[2] = 56      \n",
    "    key_value[1] = 2\n",
    "    key_value[5] = 12\n",
    "    key_value[4] = 24\n",
    "    key_value[6] = 18     \n",
    "    key_value[3] = 323\n",
    "    \n",
    "    print (\"Task 1:-\\n\")\n",
    "    print (\"Keys are\")\n",
    "    for i in sorted (key_value.keys()):\n",
    "        print(i, end = \" \")\n",
    "        \n",
    "def main():\n",
    "    dictionairy()\n",
    "    \n",
    "if __name__ == \"__main__\":\n",
    "    main()"
   ]
  },
  {
   "cell_type": "code",
   "execution_count": null,
   "metadata": {},
   "outputs": [],
   "source": []
  }
 ],
 "metadata": {
  "kernelspec": {
   "display_name": "Python 3",
   "language": "python",
   "name": "python3"
  },
  "language_info": {
   "codemirror_mode": {
    "name": "ipython",
    "version": 3
   },
   "file_extension": ".py",
   "mimetype": "text/x-python",
   "name": "python",
   "nbconvert_exporter": "python",
   "pygments_lexer": "ipython3",
   "version": "3.7.6"
  }
 },
 "nbformat": 4,
 "nbformat_minor": 4
}
