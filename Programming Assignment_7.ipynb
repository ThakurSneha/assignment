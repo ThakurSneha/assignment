{
 "cells": [
  {
   "cell_type": "markdown",
   "metadata": {},
   "source": [
    "# Programming Assignment_7"
   ]
  },
  {
   "cell_type": "markdown",
   "metadata": {},
   "source": [
    "### Q1.\tWrite a Python Program to find sum of array?"
   ]
  },
  {
   "cell_type": "code",
   "execution_count": 9,
   "metadata": {},
   "outputs": [
    {
     "name": "stdout",
     "output_type": "stream",
     "text": [
      "Sum of the array is 60\n"
     ]
    }
   ],
   "source": [
    "def sumofarray(arr): \n",
    "    sum=0\n",
    "    for i in arr:\n",
    "        sum = sum + i\n",
    "    return(sum) \n",
    "\n",
    "arr=[] \n",
    "arr = [21, 4, 10, 25] \n",
    "n = len(arr) \n",
    "ans = sumofarray(arr) \n",
    "print ('Sum of the array is {}'.format(ans)) "
   ]
  },
  {
   "cell_type": "markdown",
   "metadata": {},
   "source": [
    "### Q2.\tWrite a Python Program to find largest element in an array?"
   ]
  },
  {
   "cell_type": "code",
   "execution_count": 10,
   "metadata": {},
   "outputs": [
    {
     "name": "stdout",
     "output_type": "stream",
     "text": [
      "Largest element in given array is 100\n"
     ]
    }
   ],
   "source": [
    "def largest(a,n):\n",
    "    max = a[0]\n",
    "    for i in range(1, n):\n",
    "        if a[i] > max:\n",
    "            max = a[i]\n",
    "    return max\n",
    "\n",
    "a = [10, 20, 100, 90, 60]\n",
    "n = len(a)\n",
    "res = largest(a,n)\n",
    "print (\"Largest element in given array is {}\".format(res))"
   ]
  },
  {
   "cell_type": "markdown",
   "metadata": {},
   "source": [
    "### Q3.\tWrite a Python Program for array rotation?"
   ]
  },
  {
   "cell_type": "code",
   "execution_count": 15,
   "metadata": {},
   "outputs": [
    {
     "name": "stdout",
     "output_type": "stream",
     "text": [
      "Array after left rotation is:  [6, 7, 1, 2, 3, 4, 5]\n"
     ]
    }
   ],
   "source": [
    "def rotatearray(a, n, d):\n",
    "    temp = []\n",
    "    i = 0\n",
    "    while (i < d):\n",
    "        temp.append(a[i])\n",
    "        i = i + 1\n",
    "    i = 0\n",
    "    while (d < n):\n",
    "        a[i] = a[d]\n",
    "        i = i + 1\n",
    "        d = d + 1\n",
    "    a[:] = a[: i] + temp\n",
    "    return a\n",
    "\n",
    "a = [1, 2, 3, 4, 5, 6, 7]\n",
    "print(\"Array after left rotation is: \", end=' ')\n",
    "print(rotatearray(a, len(a), 5))"
   ]
  },
  {
   "cell_type": "markdown",
   "metadata": {},
   "source": [
    "### Q4.\tWrite a Python Program to Split the array and add the first part to the end?"
   ]
  },
  {
   "cell_type": "code",
   "execution_count": 16,
   "metadata": {},
   "outputs": [
    {
     "name": "stdout",
     "output_type": "stream",
     "text": [
      "5 6 25 30 22 40 "
     ]
    }
   ],
   "source": [
    "def splitarray(a, n, k): \n",
    "    for i in range(0, k): \n",
    "        x = a[0]\n",
    "        for j in range(0, n-1):\n",
    "            a[j] = a[j + 1]\n",
    "          \n",
    "        a[n-1] = x\n",
    "        \n",
    "a = [22, 40, 5, 6, 25, 30]\n",
    "n = len(a)\n",
    "position = 2\n",
    "  \n",
    "splitarray(a, n, position)\n",
    "  \n",
    "for i in range(0, n): \n",
    "    print(a[i], end = ' ')"
   ]
  },
  {
   "cell_type": "markdown",
   "metadata": {},
   "source": [
    "### Q5.\tWrite a Python Program to check if given array is Monotonic?"
   ]
  },
  {
   "cell_type": "code",
   "execution_count": 17,
   "metadata": {},
   "outputs": [
    {
     "name": "stdout",
     "output_type": "stream",
     "text": [
      "True\n"
     ]
    }
   ],
   "source": [
    "def Monotonic(num):\n",
    "  \n",
    "    return (all(num[i] <= num[i + 1] for i in range(len(num) - 1)) or all(num[i] >= num[i + 1] for i in range(len(num) - 1)))\n",
    "\n",
    "num = [2, 3, 4, 5]\n",
    "\n",
    "print(Monotonic(num))"
   ]
  },
  {
   "cell_type": "code",
   "execution_count": null,
   "metadata": {},
   "outputs": [],
   "source": []
  }
 ],
 "metadata": {
  "kernelspec": {
   "display_name": "Python 3",
   "language": "python",
   "name": "python3"
  },
  "language_info": {
   "codemirror_mode": {
    "name": "ipython",
    "version": 3
   },
   "file_extension": ".py",
   "mimetype": "text/x-python",
   "name": "python",
   "nbconvert_exporter": "python",
   "pygments_lexer": "ipython3",
   "version": "3.7.6"
  }
 },
 "nbformat": 4,
 "nbformat_minor": 4
}
