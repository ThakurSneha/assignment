{
 "cells": [
  {
   "cell_type": "markdown",
   "metadata": {},
   "source": [
    "# Programming Assignment_11"
   ]
  },
  {
   "cell_type": "markdown",
   "metadata": {},
   "source": [
    "### Q1.\tWrite a Python program to find words which are greater than given length k?"
   ]
  },
  {
   "cell_type": "code",
   "execution_count": 7,
   "metadata": {},
   "outputs": [
    {
     "name": "stdout",
     "output_type": "stream",
     "text": [
      "['Friends', 'morning', 'happy.']\n"
     ]
    }
   ],
   "source": [
    "def my_words(k, my_string):\n",
    "    string = []\n",
    "    text = my_string.split(\" \")\n",
    "    for x in text:\n",
    "        if len(x) > k:\n",
    "            string.append(x)\n",
    "    return string\n",
    "\n",
    "k = 4\n",
    "my_string =\"Hey Friends , good morning , I am very happy.\"\n",
    "print(my_words(k, my_string))"
   ]
  },
  {
   "cell_type": "markdown",
   "metadata": {},
   "source": [
    "### Q2.\tWrite a Python program for removing i-th character from a string?"
   ]
  },
  {
   "cell_type": "code",
   "execution_count": 13,
   "metadata": {},
   "outputs": [
    {
     "name": "stdout",
     "output_type": "stream",
     "text": [
      "Pythn\n"
     ]
    }
   ],
   "source": [
    "def rm_character(mystring , i):\n",
    "    a = mystring[ : i]\n",
    "    b = mystring[i+1 : ]\n",
    "    return a + b\n",
    "\n",
    "i = 4\n",
    "mystring = \"Python\"\n",
    "print(rm_character(mystring , i))"
   ]
  },
  {
   "cell_type": "markdown",
   "metadata": {},
   "source": [
    "### Q 3. Write a Python program to split and join a string?"
   ]
  },
  {
   "cell_type": "code",
   "execution_count": 20,
   "metadata": {},
   "outputs": [
    {
     "name": "stdout",
     "output_type": "stream",
     "text": [
      "Split a String\n",
      "['Python', 'Programming']\n",
      "Join a String\n",
      "Python-Programming\n"
     ]
    }
   ],
   "source": [
    "def split_string(my_string):\n",
    "    my_list = my_string.split(' ')\n",
    "    return my_list\n",
    "\n",
    "def join_string(my_list):\n",
    "    my_string = '-'.join(my_list)\n",
    "    return my_string\n",
    "\n",
    "print(\"Split a String\")\n",
    "my_string = \"Python Programming\"\n",
    "print(split_string(my_string))\n",
    "\n",
    "print(\"Join a String\")\n",
    "my_list = ['Python' , 'Programming']\n",
    "print(join_string(my_list))"
   ]
  },
  {
   "cell_type": "markdown",
   "metadata": {},
   "source": [
    "### Q4.\tWrite a Python to check if a given string is binary string or not?"
   ]
  },
  {
   "cell_type": "code",
   "execution_count": 21,
   "metadata": {},
   "outputs": [
    {
     "name": "stdout",
     "output_type": "stream",
     "text": [
      "StringA is a binary string\n",
      "StringB is not a binary string\n"
     ]
    }
   ],
   "source": [
    "stringA = \"01100000001\"\n",
    "\n",
    "b = '10'\n",
    "count = 0\n",
    "for char in stringA:\n",
    "    if char not in b:\n",
    "        count = 1\n",
    "        break\n",
    "    else:\n",
    "        pass\n",
    "if count:\n",
    "    print(\"StringA is not a binary string\")\n",
    "else:\n",
    "    print(\"StringA is a binary string\")\n",
    "\n",
    "stringB = \"01200000001\"\n",
    "for char in stringB:\n",
    "    if char not in b:\n",
    "        count = 1\n",
    "        break\n",
    "    else:\n",
    "        pass\n",
    "if count:\n",
    "    print(\"StringB is not a binary string\")\n",
    "else:\n",
    "    print(\"StringB is a binary string\")"
   ]
  },
  {
   "cell_type": "markdown",
   "metadata": {},
   "source": [
    "### Q5.\tWrite a Python program to find uncommon words from two Strings?"
   ]
  },
  {
   "cell_type": "code",
   "execution_count": 24,
   "metadata": {},
   "outputs": [
    {
     "name": "stdout",
     "output_type": "stream",
     "text": [
      "['Geeta', 'Making', 'Seeta', 'Eating']\n"
     ]
    }
   ],
   "source": [
    "def UncommonWords(string1 , string2):\n",
    "    count = {}\n",
    "    for word in string1.split():\n",
    "        count[word] = count.get(word , 0) + 1\n",
    "    for word in string2.split():\n",
    "        count[word] = count.get(word , 0) + 1\n",
    "    return [word for word in count if count[word] == 1]\n",
    "\n",
    "string1 = \"Geeta Making a food\"\n",
    "string2 = \"Seeta Eating a food\"\n",
    "\n",
    "print(UncommonWords(string1,string2))"
   ]
  },
  {
   "cell_type": "markdown",
   "metadata": {},
   "source": [
    "### Q6.\tWrite a Python to find all duplicate characters in string?"
   ]
  },
  {
   "cell_type": "code",
   "execution_count": 28,
   "metadata": {},
   "outputs": [
    {
     "name": "stdout",
     "output_type": "stream",
     "text": [
      "Enter a string : Hello, good morning friends\n",
      "Helo, gdmrnifs\n"
     ]
    }
   ],
   "source": [
    "mystring = input(\"Enter a string : \")\n",
    "i = 0\n",
    "string1 = \"\"\n",
    "for x in mystring:\n",
    "    if mystring.index(x) == i:\n",
    "        string1 += x\n",
    "    i+=1\n",
    "print(string1)"
   ]
  },
  {
   "cell_type": "markdown",
   "metadata": {},
   "source": [
    "### Q7.\tWrite a Python Program to check if a string contains any special character?"
   ]
  },
  {
   "cell_type": "code",
   "execution_count": 29,
   "metadata": {},
   "outputs": [
    {
     "name": "stdout",
     "output_type": "stream",
     "text": [
      "string contains special character\n"
     ]
    }
   ],
   "source": [
    "import re\n",
    "my_string = \"ineuron@To%data&science**2#python\"\n",
    "character = re.compile('[@1#$%^&*()<>?/\\|}{~:]')\n",
    "if (character.search(my_string) == None):\n",
    "    print(\"String not contains any special character.\")\n",
    "else:\n",
    "    print(\"string contains special character\")"
   ]
  },
  {
   "cell_type": "code",
   "execution_count": null,
   "metadata": {},
   "outputs": [],
   "source": []
  }
 ],
 "metadata": {
  "kernelspec": {
   "display_name": "Python 3",
   "language": "python",
   "name": "python3"
  },
  "language_info": {
   "codemirror_mode": {
    "name": "ipython",
    "version": 3
   },
   "file_extension": ".py",
   "mimetype": "text/x-python",
   "name": "python",
   "nbconvert_exporter": "python",
   "pygments_lexer": "ipython3",
   "version": "3.7.6"
  }
 },
 "nbformat": 4,
 "nbformat_minor": 4
}
