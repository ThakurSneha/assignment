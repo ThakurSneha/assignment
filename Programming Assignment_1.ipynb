{
 "cells": [
  {
   "cell_type": "markdown",
   "metadata": {},
   "source": [
    "# Programming Assignment_1"
   ]
  },
  {
   "cell_type": "markdown",
   "metadata": {},
   "source": [
    "### Q1. Write a Python program to print \"Hello Python\"?"
   ]
  },
  {
   "cell_type": "code",
   "execution_count": 1,
   "metadata": {},
   "outputs": [
    {
     "name": "stdout",
     "output_type": "stream",
     "text": [
      "Hello Python\n"
     ]
    }
   ],
   "source": [
    "print(\"Hello Python\")"
   ]
  },
  {
   "cell_type": "markdown",
   "metadata": {},
   "source": [
    "### Q2. Write a Python program to do arithmetical operations addition and division.?"
   ]
  },
  {
   "cell_type": "code",
   "execution_count": 4,
   "metadata": {},
   "outputs": [
    {
     "name": "stdout",
     "output_type": "stream",
     "text": [
      "The addition of 25 and 5 is 30\n",
      "The division of 25 and 5 is 5.0\n"
     ]
    }
   ],
   "source": [
    "num1=25\n",
    "num2=5\n",
    "addition=num1+num2\n",
    "division=num1/num2\n",
    "print(\"The addition of {} and {} is {}\".format(num1,num2,addition))\n",
    "print(\"The division of {} and {} is {}\".format(num1,num2,division))"
   ]
  },
  {
   "cell_type": "markdown",
   "metadata": {},
   "source": [
    "### Q3. Write a Python program to find the area of a triangle?"
   ]
  },
  {
   "cell_type": "code",
   "execution_count": 7,
   "metadata": {},
   "outputs": [
    {
     "name": "stdout",
     "output_type": "stream",
     "text": [
      "Enter the height of Triangle:15\n",
      "Enter the base of Triangle:12\n",
      "The Area of Triangle is 90.0\n"
     ]
    }
   ],
   "source": [
    "height=int(input(\"Enter the height of Triangle:\"))\n",
    "base=int(input(\"Enter the base of Triangle:\"))\n",
    "area=1/2*(base*height)\n",
    "print(\"The Area of Triangle is {}\".format(area))"
   ]
  },
  {
   "cell_type": "markdown",
   "metadata": {},
   "source": [
    "### Q4. Write a Python program to swap two variables?"
   ]
  },
  {
   "cell_type": "code",
   "execution_count": 1,
   "metadata": {},
   "outputs": [
    {
     "name": "stdout",
     "output_type": "stream",
     "text": [
      "Enter the value of first variable:10\n",
      "Enter the value of second variable:15\n",
      "Before Swapping two Variables......\n",
      "The value of First variable is 10\n",
      "The value of Second variable is 15\n",
      "After Swapping two Variables......\n",
      "The value of First variable is 15\n",
      "The value of Second variable is 10\n"
     ]
    }
   ],
   "source": [
    "first=int(input(\"Enter the value of first variable:\"))\n",
    "second=int(input(\"Enter the value of second variable:\"))\n",
    "print(\"Before Swapping two Variables......\")\n",
    "print(\"The value of First variable is {}\".format(first))\n",
    "print(\"The value of Second variable is {}\".format(second))\n",
    "first=first+second\n",
    "second=first-second\n",
    "first=first-second\n",
    "print(\"After Swapping two Variables......\")\n",
    "print(\"The value of First variable is {}\".format(first))\n",
    "print(\"The value of Second variable is {}\".format(second))"
   ]
  },
  {
   "cell_type": "markdown",
   "metadata": {},
   "source": [
    "### Q5. Write a Python program to generate a random number?"
   ]
  },
  {
   "cell_type": "code",
   "execution_count": 2,
   "metadata": {},
   "outputs": [
    {
     "name": "stdout",
     "output_type": "stream",
     "text": [
      "7\n"
     ]
    }
   ],
   "source": [
    "import random\n",
    "a=random.randint(0,8)\n",
    "print(a)"
   ]
  },
  {
   "cell_type": "code",
   "execution_count": null,
   "metadata": {},
   "outputs": [],
   "source": []
  }
 ],
 "metadata": {
  "kernelspec": {
   "display_name": "Python 3",
   "language": "python",
   "name": "python3"
  },
  "language_info": {
   "codemirror_mode": {
    "name": "ipython",
    "version": 3
   },
   "file_extension": ".py",
   "mimetype": "text/x-python",
   "name": "python",
   "nbconvert_exporter": "python",
   "pygments_lexer": "ipython3",
   "version": "3.7.6"
  }
 },
 "nbformat": 4,
 "nbformat_minor": 4
}
