{
 "cells": [
  {
   "cell_type": "markdown",
   "metadata": {},
   "source": [
    "# Programming Assignment_5"
   ]
  },
  {
   "cell_type": "markdown",
   "metadata": {},
   "source": [
    "### Q1.  Write a Python Program to Find LCM?"
   ]
  },
  {
   "cell_type": "code",
   "execution_count": 7,
   "metadata": {},
   "outputs": [
    {
     "name": "stdout",
     "output_type": "stream",
     "text": [
      "Enter the First number:12\n",
      "Enter the Second number:20\n",
      "The LCM of 12 and 20 is : 60\n"
     ]
    }
   ],
   "source": [
    "def LCM(a,b):\n",
    "    if a>b:\n",
    "        greater = a\n",
    "    else:\n",
    "        greater = b\n",
    "    while(True):\n",
    "        if((greater % a == 0) and (greater % b == 0)):\n",
    "            LCM = greater\n",
    "            break\n",
    "        greater += 1\n",
    "    return LCM\n",
    "\n",
    "n1=int(input(\"Enter the First number:\"))\n",
    "n2=int(input(\"Enter the Second number:\"))\n",
    "print(\"The LCM of {} and {} is : {}\".format(n1,n2,LCM(n1,n2)))"
   ]
  },
  {
   "cell_type": "markdown",
   "metadata": {},
   "source": [
    "### Q2. Write a Python Program to Find HCF?"
   ]
  },
  {
   "cell_type": "code",
   "execution_count": 10,
   "metadata": {
    "scrolled": true
   },
   "outputs": [
    {
     "name": "stdout",
     "output_type": "stream",
     "text": [
      "Enter the First number:24\n",
      "Enter the Second number:54\n",
      "The HCF of 24 and 54 is : 6\n"
     ]
    }
   ],
   "source": [
    "def HCF(a,b):\n",
    "    if a>b:\n",
    "        smaller = a\n",
    "    else:\n",
    "        smaller = b\n",
    "    for i in range(1,smaller + 1):\n",
    "        if((a % i == 0) and (b % i == 0)):\n",
    "            HCF = i\n",
    "    return HCF\n",
    "\n",
    "n1=int(input(\"Enter the First number:\"))\n",
    "n2=int(input(\"Enter the Second number:\"))\n",
    "print(\"The HCF of {} and {} is : {}\".format(n1,n2,HCF(n1,n2)))            "
   ]
  },
  {
   "cell_type": "markdown",
   "metadata": {},
   "source": [
    "### Q3.\tWrite a Python Program to Convert Decimal to Binary, Octal and Hexadecimal?"
   ]
  },
  {
   "cell_type": "code",
   "execution_count": 1,
   "metadata": {},
   "outputs": [
    {
     "name": "stdout",
     "output_type": "stream",
     "text": [
      "Enter the Decimal number:8\n",
      "Converting Decimal to Binary, Octal and Hexadecimal With using In-build functions.........\n",
      "The binary number is : 0b1000\n",
      "The Octal number is : 0o10\n",
      "The hexadecimal number is : 0x8\n"
     ]
    }
   ],
   "source": [
    "dec=int(input(\"Enter the Decimal number:\"))\n",
    "binary=bin(dec)\n",
    "octal=oct(dec)\n",
    "hexadecimal=hex(dec)\n",
    "print(\"Converting Decimal to Binary, Octal and Hexadecimal With using In-build functions.........\")\n",
    "print(\"The binary number is : {}\".format(binary))\n",
    "print(\"The Octal number is : {}\".format(octal))\n",
    "print(\"The hexadecimal number is : {}\".format(hexadecimal))\n"
   ]
  },
  {
   "cell_type": "markdown",
   "metadata": {},
   "source": [
    "### Q4. Write a Python Program To Find ASCII value of a character?"
   ]
  },
  {
   "cell_type": "code",
   "execution_count": 10,
   "metadata": {},
   "outputs": [
    {
     "name": "stdout",
     "output_type": "stream",
     "text": [
      "Enter the character :A\n",
      "The ASCII value of character A is 65 \n"
     ]
    }
   ],
   "source": [
    "character=input(\"Enter the character :\")\n",
    "print(\"The ASCII value of character {} is {} \".format(character,ord(character)))"
   ]
  },
  {
   "cell_type": "markdown",
   "metadata": {},
   "source": [
    "### Q5.\tWrite a Python Program to Make a Simple Calculator with 4 basic mathematical operations?"
   ]
  },
  {
   "cell_type": "code",
   "execution_count": 4,
   "metadata": {},
   "outputs": [
    {
     "name": "stdout",
     "output_type": "stream",
     "text": [
      "Enter the value of first number : 4\n",
      "Enter the value of second number : 16\n",
      "Enter the mathematical opration : addition\n",
      "addition of 4 and 16 is : 20\n"
     ]
    }
   ],
   "source": [
    "n1 = int(input(\"Enter the value of first number : \"))\n",
    "n2 = int(input(\"Enter the value of second number : \"))\n",
    "operation = input(\"Enter the mathematical opration : \")\n",
    "result = 0\n",
    "operation = operation.lower()\n",
    "if operation == 'addition' :\n",
    "    result = n1 + n2\n",
    "elif operation == 'subtraction' :\n",
    "    result = n1 - n2\n",
    "elif operation == 'multiplication' :\n",
    "    result = n1 * n2\n",
    "elif operation == 'division' :\n",
    "    if n2 == 0:\n",
    "        print(\"Zero Division Error..... \\n Enter positive number\")\n",
    "        result = \"Null\"\n",
    "    else:\n",
    "        result = n1 / n2\n",
    "print(\"{} of {} and {} is : {}\".format(operation, n1 , n2 , result))"
   ]
  },
  {
   "cell_type": "code",
   "execution_count": null,
   "metadata": {},
   "outputs": [],
   "source": []
  }
 ],
 "metadata": {
  "kernelspec": {
   "display_name": "Python 3",
   "language": "python",
   "name": "python3"
  },
  "language_info": {
   "codemirror_mode": {
    "name": "ipython",
    "version": 3
   },
   "file_extension": ".py",
   "mimetype": "text/x-python",
   "name": "python",
   "nbconvert_exporter": "python",
   "pygments_lexer": "ipython3",
   "version": "3.7.6"
  }
 },
 "nbformat": 4,
 "nbformat_minor": 4
}
