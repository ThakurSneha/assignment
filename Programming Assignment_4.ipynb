{
 "cells": [
  {
   "cell_type": "markdown",
   "metadata": {},
   "source": [
    "# Programming Assignment_4"
   ]
  },
  {
   "cell_type": "markdown",
   "metadata": {},
   "source": [
    "### Q. 1.\tWrite a Python Program to Find the Factorial of a Number?"
   ]
  },
  {
   "cell_type": "code",
   "execution_count": 1,
   "metadata": {},
   "outputs": [
    {
     "name": "stdout",
     "output_type": "stream",
     "text": [
      "Enter a number to calculate Factorial of a number: 25\n",
      "Factorial of number 1 is: 15511210043330985984000000\n"
     ]
    }
   ],
   "source": [
    "num = int(input(\"Enter a number to calculate Factorial of a number: \"))\n",
    "if num < 0:\n",
    "    print(\"Can not calculate factorial for negative number! \\n Enter a positive number\")\n",
    "elif num == 0 or num == 1:\n",
    "    print(\"Factorial of number {} is: {}\".format(num,1))\n",
    "else:\n",
    "    fact = 1\n",
    "    while ( num > 1):\n",
    "        fact *= num\n",
    "        num -= 1\n",
    "    print(\"Factorial of number {} is: {}\".format(num ,fact))"
   ]
  },
  {
   "cell_type": "markdown",
   "metadata": {},
   "source": [
    "### Q. 2.\tWrite a Python Program to Display the multiplication Table?"
   ]
  },
  {
   "cell_type": "code",
   "execution_count": 2,
   "metadata": {},
   "outputs": [
    {
     "name": "stdout",
     "output_type": "stream",
     "text": [
      "Enter the number for printing the table: 2\n",
      "2 * 1 = 2\n",
      "2 * 2 = 4\n",
      "2 * 3 = 6\n",
      "2 * 4 = 8\n",
      "2 * 5 = 10\n",
      "2 * 6 = 12\n",
      "2 * 7 = 14\n",
      "2 * 8 = 16\n",
      "2 * 9 = 18\n",
      "2 * 10 = 20\n"
     ]
    }
   ],
   "source": [
    "num = int(input(\"Enter the number for printing the table: \"))\n",
    "if num<0:\n",
    "    print(\"Enter the positive number:\")\n",
    "else:\n",
    "    for i in range(1,11):\n",
    "        res = i * num\n",
    "        print(\"{} * {} = {}\".format(num,i,res))"
   ]
  },
  {
   "cell_type": "markdown",
   "metadata": {},
   "source": [
    "### Q. 3.\tWrite a Python Program to Print the Fibonacci sequence?"
   ]
  },
  {
   "cell_type": "code",
   "execution_count": 3,
   "metadata": {},
   "outputs": [
    {
     "name": "stdout",
     "output_type": "stream",
     "text": [
      "Enter the length of the sequence:10\n",
      "The Fibonacci sequence is: \n",
      "0\n",
      "1\n",
      "1\n",
      "2\n",
      "3\n",
      "5\n",
      "8\n",
      "13\n",
      "21\n"
     ]
    }
   ],
   "source": [
    "res = int(input(\"Enter the length of the sequence:\"))\n",
    "n1 = 0\n",
    "n2 = 1\n",
    "count = 1\n",
    "\n",
    "if res < 0:\n",
    "    print(\"Enter the positive number.....\")\n",
    "elif res == 1:\n",
    "    print(\"Fibonacci sequence: {}\".format(res))\n",
    "    print(n1)\n",
    "else:\n",
    "    print(\"The Fibonacci sequence is: \")\n",
    "    while count < res:\n",
    "        print(n1)\n",
    "        nth = n1 + n2\n",
    "        n1 = n2\n",
    "        n2 = nth\n",
    "        count += 1"
   ]
  },
  {
   "cell_type": "markdown",
   "metadata": {},
   "source": [
    "### Q. 4.\tWrite a Python Program to Check Armstrong Number?"
   ]
  },
  {
   "cell_type": "code",
   "execution_count": 4,
   "metadata": {},
   "outputs": [
    {
     "name": "stdout",
     "output_type": "stream",
     "text": [
      "Enter a number:15\n",
      "Enter a number:11\n",
      "Enter a number:21\n",
      "21 is not a Armstrong number\n"
     ]
    }
   ],
   "source": [
    "num = int(input(\"Enter a number:\"))\n",
    "sum = 0\n",
    "temp = num\n",
    "while temp > 0:\n",
    "    digit = temp % 10\n",
    "    sum += digit ** 3\n",
    "    temp //= 10\n",
    "    \n",
    "    num = int(input(\"Enter a number:\"))\n",
    "sum = 0\n",
    "temp = num\n",
    "while temp > 0:\n",
    "    digit = temp % 10\n",
    "    sum += digit ** 3\n",
    "    temp //= 10\n",
    "\n",
    "if num == sum :\n",
    "    print(\"{} is a Armstrong number\".format(num))\n",
    "else:\n",
    "    print(\"{} is not a Armstrong number\".format(num))\n",
    "\n"
   ]
  },
  {
   "cell_type": "markdown",
   "metadata": {},
   "source": [
    "### Q. 5.\tWrite a Python Program to Find Armstrong Number in an Interval?"
   ]
  },
  {
   "cell_type": "code",
   "execution_count": 5,
   "metadata": {},
   "outputs": [
    {
     "name": "stdout",
     "output_type": "stream",
     "text": [
      "Enter the starting number:5\n",
      "Enter the ending number:50\n",
      "5\n",
      "6\n",
      "7\n",
      "8\n",
      "9\n"
     ]
    }
   ],
   "source": [
    "start = int(input(\"Enter the starting number:\"))\n",
    "end = int(input(\"Enter the ending number:\"))\n",
    "\n",
    "for num in range(start, end + 1):\n",
    "    order = len(str(num))\n",
    "    sum = 0\n",
    "    temp = num\n",
    "    while temp > 0:\n",
    "        digit = temp % 10\n",
    "        sum += digit ** order\n",
    "        temp //= 10\n",
    "    if num == sum:\n",
    "        print(num)"
   ]
  },
  {
   "cell_type": "markdown",
   "metadata": {},
   "source": [
    "### Q.6.\tWrite a Python Program to Find the Sum of Natural Numbers?"
   ]
  },
  {
   "cell_type": "code",
   "execution_count": 7,
   "metadata": {},
   "outputs": [
    {
     "name": "stdout",
     "output_type": "stream",
     "text": [
      "Enter the first number:10\n",
      "Enter the last number: 100\n",
      "Sum of natural number from first number = 10 to last number = 100 is: 5005\n"
     ]
    }
   ],
   "source": [
    "first = int(input(\"Enter the first number:\"))\n",
    "last = int(input(\"Enter the last number: \"))\n",
    "if first < 0 or last < 0:\n",
    "    print(\"Enter a positive number:\")\n",
    "else:\n",
    "    sum = 0\n",
    "    for i in range(first, last+1):\n",
    "        sum += i\n",
    "    print(\"Sum of natural number from first number = {} to last number = {} is: {}\".format(first, last, sum))"
   ]
  },
  {
   "cell_type": "code",
   "execution_count": null,
   "metadata": {},
   "outputs": [],
   "source": []
  }
 ],
 "metadata": {
  "kernelspec": {
   "display_name": "Python 3",
   "language": "python",
   "name": "python3"
  },
  "language_info": {
   "codemirror_mode": {
    "name": "ipython",
    "version": 3
   },
   "file_extension": ".py",
   "mimetype": "text/x-python",
   "name": "python",
   "nbconvert_exporter": "python",
   "pygments_lexer": "ipython3",
   "version": "3.7.6"
  }
 },
 "nbformat": 4,
 "nbformat_minor": 4
}
